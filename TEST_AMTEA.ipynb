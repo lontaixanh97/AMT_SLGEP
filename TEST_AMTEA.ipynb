{
 "cells": [
  {
   "cell_type": "code",
   "execution_count": 1,
   "metadata": {},
   "outputs": [],
   "source": [
    "import os\n",
    "import yaml\n",
    "\n",
    "import numpy as np\n",
    "\n",
    "from probability_models.probability_model import ProbabilityModel\n",
    "from probability_models.mixture_model import MixtureModel\n",
    "import os\n",
    "from atari_benchmark import *\n",
    "from slgep_lib import *\n",
    "from mfea_lib import *\n",
    "from utils import Evaluator\n",
    "from tools import Tools\n",
    "\n",
    "from joblib import Parallel, delayed\n",
    "from os import cpu_count\n",
    "from tqdm import trange"
   ]
  },
  {
   "cell_type": "code",
   "execution_count": 2,
   "metadata": {},
   "outputs": [],
   "source": [
    "# AMTEA solving KP_wc_ak\n",
    "reps = 30;\n",
    "TrInt = 2;\n",
    "\n",
    "trans = {}\n",
    "trans['transfer'] = True;\n",
    "trans['TrInt'] = TrInt; "
   ]
  },
  {
   "cell_type": "code",
   "execution_count": null,
   "metadata": {},
   "outputs": [
    {
     "name": "stdout",
     "output_type": "stream",
     "text": [
      "[+] Initializing evaluators\n"
     ]
    },
    {
     "name": "stderr",
     "output_type": "stream",
     "text": [
      "gen:99 fitness:-46700.00|-20825.00|12792.22 message:{'algorithm': 'cea', 'instance': ['Atlantis-ram-v4']} K:1: 100%|██████████| 100/100 [3:38:50<00:00, 131.30s/it] \n"
     ]
    },
    {
     "name": "stdout",
     "output_type": "stream",
     "text": [
      "[+] Initializing evaluators\n"
     ]
    },
    {
     "name": "stderr",
     "output_type": "stream",
     "text": [
      "gen:0 fitness:-37100.00|-18665.00|9313.77 message:{'algorithm': 'cea', 'instance': ['Atlantis-ram-v4']} K:1:   1%|          | 1/100 [02:33<4:13:15, 153.49s/it]"
     ]
    }
   ],
   "source": [
    "# Load configuration\n",
    "config = yaml.load(open('config.yaml').read())\n",
    "\n",
    "# Load benchmark\n",
    "singletask_benchmark = yaml.load(open('atari_benchmark/singletask-benchmark.yaml').read())\n",
    "data = singletask_benchmark['single-1']\n",
    "config.update(data)\n",
    "config = wrap_config(config)\n",
    "\n",
    "transfer = trans['transfer']\n",
    "if transfer:\n",
    "    TrInt = trans['TrInt']\n",
    "    all_models = Tools.load_from_file(os.path.join('problems', 'all_models'))\n",
    "\n",
    "# Problem\n",
    "taskset = Taskset(config)\n",
    "\n",
    "# Model\n",
    "cf = ChromosomeFactory(config)\n",
    "\n",
    "# Simple parameter\n",
    "K = taskset.K\n",
    "config['K'] = K\n",
    "N = config['pop_size'] * K\n",
    "T = config['num_iter']\n",
    "dims = config['dim']\n",
    "mutation_rate = config['mutation_rate']\n",
    "\n",
    "bestSol = np.zeros((reps, dims))\n",
    "alpha = [None] * (reps)\n",
    "\n",
    "# Initialization\n",
    "population = cf.initialize()\n",
    "skill_factor = np.array([i % K for i in range(2 * N)])\n",
    "factorial_cost = np.full([2 * N, K], np.inf)\n",
    "scalar_fitness = np.empty([2 * N])\n",
    "\n",
    "for rep in range(reps):\n",
    "    alpha_rep = []\n",
    "\n",
    "    # For parallel evaluation\n",
    "    print('[+] Initializing evaluators')\n",
    "    evaluators = [Evaluator(config) for _ in range(2 * N)]\n",
    "\n",
    "    # First evaluation (sequential)\n",
    "    delayed_functions = []\n",
    "    for i in range(2 * N):\n",
    "        sf = skill_factor[i]\n",
    "        delayed_functions.append(delayed(evaluators[i].evaluate)(population[i], sf))\n",
    "    fitnesses = Parallel(n_jobs=cpu_count())(delayed_functions)\n",
    "    for i in range(2 * N):\n",
    "        sf = skill_factor[i]\n",
    "        factorial_cost[i, sf] = fitnesses[i]\n",
    "    scalar_fitness = calculate_scalar_fitness(factorial_cost)\n",
    "    \n",
    "    # Evolve\n",
    "    iterator = trange(T)\n",
    "    for t in iterator:\n",
    "        \n",
    "        # permute current population\n",
    "        permutation_index = np.random.permutation(N)\n",
    "        population[:N] = population[:N][permutation_index]\n",
    "        skill_factor[:N] = skill_factor[:N][permutation_index]\n",
    "        factorial_cost[:N] = factorial_cost[:N][permutation_index]\n",
    "        factorial_cost[N:] = np.inf\n",
    "        \n",
    "        \n",
    "        # As we consider all the population as parents, we don't samplt P^{s}\n",
    "        if transfer and i % TrInt == 0:\n",
    "            mmodel = MixtureModel(all_models)\n",
    "            mmodel.createtable(population, True, 'mvarnorm')\n",
    "            mmodel.EMstacking();  # Recombination of probability models\n",
    "            mmodel.mutate();  # Mutation of stacked probability model\n",
    "            offspring = mmodel.sample(pop)\n",
    "            alpha_rep.append(mmodel.alpha)\n",
    "            print('Transfer coefficient at generation ', str(i), ': ', str(mmodel.alpha))\n",
    "        else:\n",
    "            # select pair to crossover\n",
    "            for i in range(0, N, 2):\n",
    "                # extract parent\n",
    "                p1 = population[i]\n",
    "                sf1 = skill_factor[i]\n",
    "                p2 = find_relative(population, skill_factor, sf1, N)\n",
    "                # recombine parent\n",
    "                c1, c2 = cf.one_point_crossover_adf(p1, p2)\n",
    "                c1 = cf.uniform_mutate(c1, mutation_rate)\n",
    "                c2 = cf.uniform_mutate(c2, mutation_rate)\n",
    "                # save child\n",
    "                population[N + i, :], population[N + i + 1, :] = c1[:], c2[:]\n",
    "                skill_factor[N + i] = sf1\n",
    "                skill_factor[N + i + 1] = sf1\n",
    "            \n",
    "        # evaluation\n",
    "        delayed_functions = []\n",
    "        for i in range(2 * N):\n",
    "            sf = skill_factor[i]\n",
    "            delayed_functions.append(delayed(evaluators[i].evaluate)(population[i], sf))\n",
    "        fitnesses = Parallel(n_jobs=cpu_count())(delayed_functions)\n",
    "        for i in range(2 * N):\n",
    "            sf = skill_factor[i]\n",
    "            factorial_cost[i, sf] = fitnesses[i]\n",
    "        scalar_fitness = calculate_scalar_fitness(factorial_cost)\n",
    "\n",
    "        # sort\n",
    "        sort_index = np.argsort(scalar_fitness)[::-1]\n",
    "        population = population[sort_index]\n",
    "        skill_factor = skill_factor[sort_index]\n",
    "        factorial_cost = factorial_cost[sort_index]\n",
    "        scalar_fitness = scalar_fitness[sort_index]\n",
    "\n",
    "        # optimization info\n",
    "        message = {'algorithm': 'cea', 'instance': config['names']}\n",
    "        results = get_optimization_results(t, population, factorial_cost, scalar_fitness, skill_factor, message)\n",
    "        desc = 'gen:{} fitness:{} message:{} K:{}'.format(t, ' '.join(\n",
    "            '{:0.2f}|{:0.2f}|{:0.2f}'.format(res.fun, res.mean, res.std) for res in results), message, K)\n",
    "        iterator.set_description(desc)\n",
    "\n",
    "\n"
   ]
  },
  {
   "cell_type": "code",
   "execution_count": null,
   "metadata": {},
   "outputs": [],
   "source": []
  }
 ],
 "metadata": {
  "kernelspec": {
   "display_name": "Python 3",
   "language": "python",
   "name": "python3"
  },
  "language_info": {
   "codemirror_mode": {
    "name": "ipython",
    "version": 3
   },
   "file_extension": ".py",
   "mimetype": "text/x-python",
   "name": "python",
   "nbconvert_exporter": "python",
   "pygments_lexer": "ipython3",
   "version": "3.6.9"
  }
 },
 "nbformat": 4,
 "nbformat_minor": 2
}
