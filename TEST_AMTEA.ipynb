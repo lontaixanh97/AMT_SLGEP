{
 "cells": [
  {
   "cell_type": "code",
   "execution_count": 1,
   "metadata": {},
   "outputs": [
    {
     "data": {
      "text/plain": [
       "{'divide': 'raise', 'over': 'raise', 'under': 'raise', 'invalid': 'raise'}"
      ]
     },
     "execution_count": 1,
     "metadata": {},
     "output_type": "execute_result"
    }
   ],
   "source": [
    "import os\n",
    "import yaml\n",
    "\n",
    "import numpy as np\n",
    "\n",
    "from probability_models.probability_model import ProbabilityModel\n",
    "from probability_models.mixture_model import MixtureModel\n",
    "import os\n",
    "from atari_benchmark import *\n",
    "from slgep_lib import *\n",
    "from mfea_lib import *\n",
    "from utils import Evaluator\n",
    "from tools import Tools\n",
    "\n",
    "from joblib import Parallel, delayed\n",
    "from os import cpu_count\n",
    "from tqdm import trange\n",
    "np.seterr(under='ignore')"
   ]
  },
  {
   "cell_type": "code",
   "execution_count": 2,
   "metadata": {},
   "outputs": [],
   "source": [
    "# AMTEA solving KP_wc_ak\n",
    "reps = 30;\n",
    "TrInt = 2;\n",
    "\n",
    "trans = {}\n",
    "trans['transfer'] = True;\n",
    "trans['TrInt'] = TrInt; "
   ]
  },
  {
   "cell_type": "code",
   "execution_count": 3,
   "metadata": {
    "scrolled": true
   },
   "outputs": [
    {
     "name": "stderr",
     "output_type": "stream",
     "text": [
      "/home/quanhm/.local/lib/python3.6/site-packages/ipykernel_launcher.py:2: YAMLLoadWarning: calling yaml.load() without Loader=... is deprecated, as the default Loader is unsafe. Please read https://msg.pyyaml.org/load for full details.\n",
      "  \n",
      "/home/quanhm/.local/lib/python3.6/site-packages/ipykernel_launcher.py:5: YAMLLoadWarning: calling yaml.load() without Loader=... is deprecated, as the default Loader is unsafe. Please read https://msg.pyyaml.org/load for full details.\n",
      "  \"\"\"\n"
     ]
    },
    {
     "name": "stdout",
     "output_type": "stream",
     "text": [
      "[+] Initializing evaluators\n"
     ]
    },
    {
     "name": "stderr",
     "output_type": "stream",
     "text": [
      "gen:1 fitness:-2000.00|-2000.00|0.00 message:{'algorithm': 'cea', 'instance': ['Atlantis-ram-v4']} K:1:  10%|█         | 1/10 [00:00<00:02,  4.35it/s]"
     ]
    },
    {
     "name": "stdout",
     "output_type": "stream",
     "text": [
      "Transfer coefficient at generation  0 :  [-0.02073273 -0.00364325  1.02437598]\n"
     ]
    },
    {
     "name": "stderr",
     "output_type": "stream",
     "text": [
      "gen:3 fitness:-2000.00|-2000.00|0.00 message:{'algorithm': 'cea', 'instance': ['Atlantis-ram-v4']} K:1:  30%|███       | 3/10 [00:00<00:01,  4.93it/s]"
     ]
    },
    {
     "name": "stdout",
     "output_type": "stream",
     "text": [
      "Transfer coefficient at generation  2 :  [-0.01223252  0.00884521  1.00338731]\n"
     ]
    },
    {
     "name": "stderr",
     "output_type": "stream",
     "text": [
      "gen:5 fitness:-2000.00|-2000.00|0.00 message:{'algorithm': 'cea', 'instance': ['Atlantis-ram-v4']} K:1:  50%|█████     | 5/10 [00:00<00:00,  5.43it/s]"
     ]
    },
    {
     "name": "stdout",
     "output_type": "stream",
     "text": [
      "Transfer coefficient at generation  4 :  [0.00392074 0.0100764  0.98600286]\n"
     ]
    },
    {
     "name": "stderr",
     "output_type": "stream",
     "text": [
      "gen:7 fitness:-2000.00|-2000.00|0.00 message:{'algorithm': 'cea', 'instance': ['Atlantis-ram-v4']} K:1:  70%|███████   | 7/10 [00:01<00:00,  5.76it/s]"
     ]
    },
    {
     "name": "stdout",
     "output_type": "stream",
     "text": [
      "Transfer coefficient at generation  6 :  [-0.01337025 -0.01075356  1.02412381]\n"
     ]
    },
    {
     "name": "stderr",
     "output_type": "stream",
     "text": [
      "gen:9 fitness:-2000.00|-2000.00|0.00 message:{'algorithm': 'cea', 'instance': ['Atlantis-ram-v4']} K:1: 100%|██████████| 10/10 [00:01<00:00,  7.30it/s]"
     ]
    },
    {
     "name": "stdout",
     "output_type": "stream",
     "text": [
      "Transfer coefficient at generation  8 :  [-1.93716362e-02  9.95799949e-04  1.01837584e+00]\n",
      "[+] Initializing evaluators\n"
     ]
    },
    {
     "name": "stderr",
     "output_type": "stream",
     "text": [
      "\n"
     ]
    },
    {
     "ename": "TypeError",
     "evalue": "list indices must be integers or slices, not float",
     "output_type": "error",
     "traceback": [
      "\u001b[0;31m---------------------------------------------------------------------------\u001b[0m",
      "\u001b[0;31m_RemoteTraceback\u001b[0m                          Traceback (most recent call last)",
      "\u001b[0;31m_RemoteTraceback\u001b[0m: \n\"\"\"\nTraceback (most recent call last):\n  File \"/home/quanhm/.local/lib/python3.6/site-packages/joblib/externals/loky/process_executor.py\", line 418, in _process_worker\n    r = call_item()\n  File \"/home/quanhm/.local/lib/python3.6/site-packages/joblib/externals/loky/process_executor.py\", line 272, in __call__\n    return self.fn(*self.args, **self.kwargs)\n  File \"/home/quanhm/.local/lib/python3.6/site-packages/joblib/_parallel_backends.py\", line 608, in __call__\n    return self.func(*args, **kwargs)\n  File \"/home/quanhm/.local/lib/python3.6/site-packages/joblib/parallel.py\", line 256, in __call__\n    for func, args, kwargs in self.items]\n  File \"/home/quanhm/.local/lib/python3.6/site-packages/joblib/parallel.py\", line 256, in <listcomp>\n    for func, args, kwargs in self.items]\n  File \"/home/quanhm/PycharmProjects/TheSis/AMT_SLGEP/utils.py\", line 30, in evaluate\n    self.cf[sf].parse(chromosome)\n  File \"/home/quanhm/PycharmProjects/TheSis/AMT_SLGEP/slgep_lib/chromosome.py\", line 137, in parse\n    config['adf_set'][i]['func'] = ADF(chromosome[head:tail], self)\n  File \"/home/quanhm/PycharmProjects/TheSis/AMT_SLGEP/slgep_lib/chromosome.py\", line 57, in __init__\n    self._parse()\n  File \"/home/quanhm/PycharmProjects/TheSis/AMT_SLGEP/slgep_lib/chromosome.py\", line 68, in _parse\n    arity=symbols[gene[0]]['arity'],\nTypeError: list indices must be integers or slices, not float\n\"\"\"",
      "\nThe above exception was the direct cause of the following exception:\n",
      "\u001b[0;31mTypeError\u001b[0m                                 Traceback (most recent call last)",
      "\u001b[0;32m<ipython-input-3-5d023423d91a>\u001b[0m in \u001b[0;36m<module>\u001b[0;34m\u001b[0m\n\u001b[1;32m     48\u001b[0m         \u001b[0msf\u001b[0m \u001b[0;34m=\u001b[0m \u001b[0mskill_factor\u001b[0m\u001b[0;34m[\u001b[0m\u001b[0mi\u001b[0m\u001b[0;34m]\u001b[0m\u001b[0;34m\u001b[0m\u001b[0;34m\u001b[0m\u001b[0m\n\u001b[1;32m     49\u001b[0m         \u001b[0mdelayed_functions\u001b[0m\u001b[0;34m.\u001b[0m\u001b[0mappend\u001b[0m\u001b[0;34m(\u001b[0m\u001b[0mdelayed\u001b[0m\u001b[0;34m(\u001b[0m\u001b[0mevaluators\u001b[0m\u001b[0;34m[\u001b[0m\u001b[0mi\u001b[0m\u001b[0;34m]\u001b[0m\u001b[0;34m.\u001b[0m\u001b[0mevaluate\u001b[0m\u001b[0;34m)\u001b[0m\u001b[0;34m(\u001b[0m\u001b[0mpopulation\u001b[0m\u001b[0;34m[\u001b[0m\u001b[0mi\u001b[0m\u001b[0;34m]\u001b[0m\u001b[0;34m,\u001b[0m \u001b[0msf\u001b[0m\u001b[0;34m)\u001b[0m\u001b[0;34m)\u001b[0m\u001b[0;34m\u001b[0m\u001b[0;34m\u001b[0m\u001b[0m\n\u001b[0;32m---> 50\u001b[0;31m     \u001b[0mfitnesses\u001b[0m \u001b[0;34m=\u001b[0m \u001b[0mParallel\u001b[0m\u001b[0;34m(\u001b[0m\u001b[0mn_jobs\u001b[0m\u001b[0;34m=\u001b[0m\u001b[0mcpu_count\u001b[0m\u001b[0;34m(\u001b[0m\u001b[0;34m)\u001b[0m\u001b[0;34m)\u001b[0m\u001b[0;34m(\u001b[0m\u001b[0mdelayed_functions\u001b[0m\u001b[0;34m)\u001b[0m\u001b[0;34m\u001b[0m\u001b[0;34m\u001b[0m\u001b[0m\n\u001b[0m\u001b[1;32m     51\u001b[0m     \u001b[0;32mfor\u001b[0m \u001b[0mi\u001b[0m \u001b[0;32min\u001b[0m \u001b[0mrange\u001b[0m\u001b[0;34m(\u001b[0m\u001b[0;36m2\u001b[0m \u001b[0;34m*\u001b[0m \u001b[0mN\u001b[0m\u001b[0;34m)\u001b[0m\u001b[0;34m:\u001b[0m\u001b[0;34m\u001b[0m\u001b[0;34m\u001b[0m\u001b[0m\n\u001b[1;32m     52\u001b[0m         \u001b[0msf\u001b[0m \u001b[0;34m=\u001b[0m \u001b[0mskill_factor\u001b[0m\u001b[0;34m[\u001b[0m\u001b[0mi\u001b[0m\u001b[0;34m]\u001b[0m\u001b[0;34m\u001b[0m\u001b[0;34m\u001b[0m\u001b[0m\n",
      "\u001b[0;32m~/.local/lib/python3.6/site-packages/joblib/parallel.py\u001b[0m in \u001b[0;36m__call__\u001b[0;34m(self, iterable)\u001b[0m\n\u001b[1;32m   1015\u001b[0m \u001b[0;34m\u001b[0m\u001b[0m\n\u001b[1;32m   1016\u001b[0m             \u001b[0;32mwith\u001b[0m \u001b[0mself\u001b[0m\u001b[0;34m.\u001b[0m\u001b[0m_backend\u001b[0m\u001b[0;34m.\u001b[0m\u001b[0mretrieval_context\u001b[0m\u001b[0;34m(\u001b[0m\u001b[0;34m)\u001b[0m\u001b[0;34m:\u001b[0m\u001b[0;34m\u001b[0m\u001b[0;34m\u001b[0m\u001b[0m\n\u001b[0;32m-> 1017\u001b[0;31m                 \u001b[0mself\u001b[0m\u001b[0;34m.\u001b[0m\u001b[0mretrieve\u001b[0m\u001b[0;34m(\u001b[0m\u001b[0;34m)\u001b[0m\u001b[0;34m\u001b[0m\u001b[0;34m\u001b[0m\u001b[0m\n\u001b[0m\u001b[1;32m   1018\u001b[0m             \u001b[0;31m# Make sure that we get a last message telling us we are done\u001b[0m\u001b[0;34m\u001b[0m\u001b[0;34m\u001b[0m\u001b[0;34m\u001b[0m\u001b[0m\n\u001b[1;32m   1019\u001b[0m             \u001b[0melapsed_time\u001b[0m \u001b[0;34m=\u001b[0m \u001b[0mtime\u001b[0m\u001b[0;34m.\u001b[0m\u001b[0mtime\u001b[0m\u001b[0;34m(\u001b[0m\u001b[0;34m)\u001b[0m \u001b[0;34m-\u001b[0m \u001b[0mself\u001b[0m\u001b[0;34m.\u001b[0m\u001b[0m_start_time\u001b[0m\u001b[0;34m\u001b[0m\u001b[0;34m\u001b[0m\u001b[0m\n",
      "\u001b[0;32m~/.local/lib/python3.6/site-packages/joblib/parallel.py\u001b[0m in \u001b[0;36mretrieve\u001b[0;34m(self)\u001b[0m\n\u001b[1;32m    907\u001b[0m             \u001b[0;32mtry\u001b[0m\u001b[0;34m:\u001b[0m\u001b[0;34m\u001b[0m\u001b[0;34m\u001b[0m\u001b[0m\n\u001b[1;32m    908\u001b[0m                 \u001b[0;32mif\u001b[0m \u001b[0mgetattr\u001b[0m\u001b[0;34m(\u001b[0m\u001b[0mself\u001b[0m\u001b[0;34m.\u001b[0m\u001b[0m_backend\u001b[0m\u001b[0;34m,\u001b[0m \u001b[0;34m'supports_timeout'\u001b[0m\u001b[0;34m,\u001b[0m \u001b[0;32mFalse\u001b[0m\u001b[0;34m)\u001b[0m\u001b[0;34m:\u001b[0m\u001b[0;34m\u001b[0m\u001b[0;34m\u001b[0m\u001b[0m\n\u001b[0;32m--> 909\u001b[0;31m                     \u001b[0mself\u001b[0m\u001b[0;34m.\u001b[0m\u001b[0m_output\u001b[0m\u001b[0;34m.\u001b[0m\u001b[0mextend\u001b[0m\u001b[0;34m(\u001b[0m\u001b[0mjob\u001b[0m\u001b[0;34m.\u001b[0m\u001b[0mget\u001b[0m\u001b[0;34m(\u001b[0m\u001b[0mtimeout\u001b[0m\u001b[0;34m=\u001b[0m\u001b[0mself\u001b[0m\u001b[0;34m.\u001b[0m\u001b[0mtimeout\u001b[0m\u001b[0;34m)\u001b[0m\u001b[0;34m)\u001b[0m\u001b[0;34m\u001b[0m\u001b[0;34m\u001b[0m\u001b[0m\n\u001b[0m\u001b[1;32m    910\u001b[0m                 \u001b[0;32melse\u001b[0m\u001b[0;34m:\u001b[0m\u001b[0;34m\u001b[0m\u001b[0;34m\u001b[0m\u001b[0m\n\u001b[1;32m    911\u001b[0m                     \u001b[0mself\u001b[0m\u001b[0;34m.\u001b[0m\u001b[0m_output\u001b[0m\u001b[0;34m.\u001b[0m\u001b[0mextend\u001b[0m\u001b[0;34m(\u001b[0m\u001b[0mjob\u001b[0m\u001b[0;34m.\u001b[0m\u001b[0mget\u001b[0m\u001b[0;34m(\u001b[0m\u001b[0;34m)\u001b[0m\u001b[0;34m)\u001b[0m\u001b[0;34m\u001b[0m\u001b[0;34m\u001b[0m\u001b[0m\n",
      "\u001b[0;32m~/.local/lib/python3.6/site-packages/joblib/_parallel_backends.py\u001b[0m in \u001b[0;36mwrap_future_result\u001b[0;34m(future, timeout)\u001b[0m\n\u001b[1;32m    560\u001b[0m         AsyncResults.get from multiprocessing.\"\"\"\n\u001b[1;32m    561\u001b[0m         \u001b[0;32mtry\u001b[0m\u001b[0;34m:\u001b[0m\u001b[0;34m\u001b[0m\u001b[0;34m\u001b[0m\u001b[0m\n\u001b[0;32m--> 562\u001b[0;31m             \u001b[0;32mreturn\u001b[0m \u001b[0mfuture\u001b[0m\u001b[0;34m.\u001b[0m\u001b[0mresult\u001b[0m\u001b[0;34m(\u001b[0m\u001b[0mtimeout\u001b[0m\u001b[0;34m=\u001b[0m\u001b[0mtimeout\u001b[0m\u001b[0;34m)\u001b[0m\u001b[0;34m\u001b[0m\u001b[0;34m\u001b[0m\u001b[0m\n\u001b[0m\u001b[1;32m    563\u001b[0m         \u001b[0;32mexcept\u001b[0m \u001b[0mLokyTimeoutError\u001b[0m\u001b[0;34m:\u001b[0m\u001b[0;34m\u001b[0m\u001b[0;34m\u001b[0m\u001b[0m\n\u001b[1;32m    564\u001b[0m             \u001b[0;32mraise\u001b[0m \u001b[0mTimeoutError\u001b[0m\u001b[0;34m(\u001b[0m\u001b[0;34m)\u001b[0m\u001b[0;34m\u001b[0m\u001b[0;34m\u001b[0m\u001b[0m\n",
      "\u001b[0;32m/usr/lib/python3.6/concurrent/futures/_base.py\u001b[0m in \u001b[0;36mresult\u001b[0;34m(self, timeout)\u001b[0m\n\u001b[1;32m    430\u001b[0m                 \u001b[0;32mraise\u001b[0m \u001b[0mCancelledError\u001b[0m\u001b[0;34m(\u001b[0m\u001b[0;34m)\u001b[0m\u001b[0;34m\u001b[0m\u001b[0;34m\u001b[0m\u001b[0m\n\u001b[1;32m    431\u001b[0m             \u001b[0;32melif\u001b[0m \u001b[0mself\u001b[0m\u001b[0;34m.\u001b[0m\u001b[0m_state\u001b[0m \u001b[0;34m==\u001b[0m \u001b[0mFINISHED\u001b[0m\u001b[0;34m:\u001b[0m\u001b[0;34m\u001b[0m\u001b[0;34m\u001b[0m\u001b[0m\n\u001b[0;32m--> 432\u001b[0;31m                 \u001b[0;32mreturn\u001b[0m \u001b[0mself\u001b[0m\u001b[0;34m.\u001b[0m\u001b[0m__get_result\u001b[0m\u001b[0;34m(\u001b[0m\u001b[0;34m)\u001b[0m\u001b[0;34m\u001b[0m\u001b[0;34m\u001b[0m\u001b[0m\n\u001b[0m\u001b[1;32m    433\u001b[0m             \u001b[0;32melse\u001b[0m\u001b[0;34m:\u001b[0m\u001b[0;34m\u001b[0m\u001b[0;34m\u001b[0m\u001b[0m\n\u001b[1;32m    434\u001b[0m                 \u001b[0;32mraise\u001b[0m \u001b[0mTimeoutError\u001b[0m\u001b[0;34m(\u001b[0m\u001b[0;34m)\u001b[0m\u001b[0;34m\u001b[0m\u001b[0;34m\u001b[0m\u001b[0m\n",
      "\u001b[0;32m/usr/lib/python3.6/concurrent/futures/_base.py\u001b[0m in \u001b[0;36m__get_result\u001b[0;34m(self)\u001b[0m\n\u001b[1;32m    382\u001b[0m     \u001b[0;32mdef\u001b[0m \u001b[0m__get_result\u001b[0m\u001b[0;34m(\u001b[0m\u001b[0mself\u001b[0m\u001b[0;34m)\u001b[0m\u001b[0;34m:\u001b[0m\u001b[0;34m\u001b[0m\u001b[0;34m\u001b[0m\u001b[0m\n\u001b[1;32m    383\u001b[0m         \u001b[0;32mif\u001b[0m \u001b[0mself\u001b[0m\u001b[0;34m.\u001b[0m\u001b[0m_exception\u001b[0m\u001b[0;34m:\u001b[0m\u001b[0;34m\u001b[0m\u001b[0;34m\u001b[0m\u001b[0m\n\u001b[0;32m--> 384\u001b[0;31m             \u001b[0;32mraise\u001b[0m \u001b[0mself\u001b[0m\u001b[0;34m.\u001b[0m\u001b[0m_exception\u001b[0m\u001b[0;34m\u001b[0m\u001b[0;34m\u001b[0m\u001b[0m\n\u001b[0m\u001b[1;32m    385\u001b[0m         \u001b[0;32melse\u001b[0m\u001b[0;34m:\u001b[0m\u001b[0;34m\u001b[0m\u001b[0;34m\u001b[0m\u001b[0m\n\u001b[1;32m    386\u001b[0m             \u001b[0;32mreturn\u001b[0m \u001b[0mself\u001b[0m\u001b[0;34m.\u001b[0m\u001b[0m_result\u001b[0m\u001b[0;34m\u001b[0m\u001b[0;34m\u001b[0m\u001b[0m\n",
      "\u001b[0;31mTypeError\u001b[0m: list indices must be integers or slices, not float"
     ]
    }
   ],
   "source": [
    "# Load configuration\n",
    "config = yaml.load(open('config.yaml').read())\n",
    "\n",
    "# Load benchmark\n",
    "singletask_benchmark = yaml.load(open('atari_benchmark/singletask-benchmark.yaml').read())\n",
    "data = singletask_benchmark['single-5']\n",
    "config.update(data)\n",
    "config = wrap_config(config)\n",
    "\n",
    "transfer = trans['transfer']\n",
    "if transfer:\n",
    "    TrInt = trans['TrInt']\n",
    "    all_models = Tools.load_from_file(os.path.join('problems', 'all_models'))\n",
    "\n",
    "# Problem\n",
    "taskset = Taskset(config)\n",
    "\n",
    "# Model\n",
    "cf = ChromosomeFactory(config)\n",
    "\n",
    "# Simple parameter\n",
    "K = taskset.K\n",
    "config['K'] = K\n",
    "N = config['pop_size'] * K\n",
    "T = config['num_iter']\n",
    "dims = config['dim']\n",
    "mutation_rate = config['mutation_rate']\n",
    "\n",
    "bestSol = np.zeros((reps, dims))\n",
    "alpha = [None] * (reps)\n",
    "\n",
    "# Initialization\n",
    "population = cf.initialize()\n",
    "skill_factor = np.array([i % K for i in range(2 * N)])\n",
    "factorial_cost = np.full([2 * N, K], np.inf)\n",
    "scalar_fitness = np.empty([2 * N])\n",
    "\n",
    "for rep in range(reps):\n",
    "    alpha_rep = []\n",
    "\n",
    "    # For parallel evaluation\n",
    "    print('[+] Initializing evaluators')\n",
    "    evaluators = [Evaluator(config) for _ in range(2 * N)]\n",
    "\n",
    "    # First evaluation (sequential)\n",
    "    delayed_functions = []\n",
    "    for i in range(2 * N):\n",
    "        sf = skill_factor[i]\n",
    "        delayed_functions.append(delayed(evaluators[i].evaluate)(population[i], sf))\n",
    "    fitnesses = Parallel(n_jobs=cpu_count())(delayed_functions)\n",
    "    for i in range(2 * N):\n",
    "        sf = skill_factor[i]\n",
    "        factorial_cost[i, sf] = fitnesses[i]\n",
    "    scalar_fitness = calculate_scalar_fitness(factorial_cost)\n",
    "    \n",
    "    # Evolve\n",
    "#     iterator = trange(T)\n",
    "    iterator = trange(10)\n",
    "    for t in iterator:\n",
    "        \n",
    "        # permute current population\n",
    "        permutation_index = np.random.permutation(N)\n",
    "        population[:N] = population[:N][permutation_index]\n",
    "        skill_factor[:N] = skill_factor[:N][permutation_index]\n",
    "        factorial_cost[:N] = factorial_cost[:N][permutation_index]\n",
    "        factorial_cost[N:] = np.inf\n",
    "        \n",
    "        \n",
    "        # As we consider all the population as parents, we don't samplt P^{s}\n",
    "        if transfer and t % TrInt == 0:\n",
    "            mmodel = MixtureModel(all_models)\n",
    "            mmodel.createtable(population, True, 'mvarnorm', config)\n",
    "            mmodel.EMstacking();  # Recombination of probability models\n",
    "            mmodel.mutate();  # Mutation of stacked probability model\n",
    "            population = mmodel.sample(2 * N)\n",
    "            alpha_rep.append(mmodel.alpha)\n",
    "            print('Transfer coefficient at generation ', str(t), ': ', str(mmodel.alpha))\n",
    "        else:\n",
    "            # select pair to crossover\n",
    "            for i in range(0, N, 2):\n",
    "                # extract parent\n",
    "                p1 = population[i]\n",
    "                sf1 = skill_factor[i]\n",
    "                p2 = find_relative(population, skill_factor, sf1, N)\n",
    "                # recombine parent\n",
    "                c1, c2 = cf.one_point_crossover_adf(p1, p2)\n",
    "                c1 = cf.uniform_mutate(c1, mutation_rate)\n",
    "                c2 = cf.uniform_mutate(c2, mutation_rate)\n",
    "                # save child\n",
    "                population[N + i, :], population[N + i + 1, :] = c1[:], c2[:]\n",
    "                skill_factor[N + i] = sf1\n",
    "                skill_factor[N + i + 1] = sf1\n",
    "            \n",
    "#         # evaluation\n",
    "#         delayed_functions = []\n",
    "#         for i in range(2 * N):\n",
    "#             sf = skill_factor[i]\n",
    "#             delayed_functions.append(delayed(evaluators[i].evaluate)(population[i], sf))\n",
    "#         fitnesses = Parallel(n_jobs=cpu_count())(delayed_functions)\n",
    "        for i in range(2 * N):\n",
    "            sf = skill_factor[i]\n",
    "            factorial_cost[i, sf] = fitnesses[i]\n",
    "        scalar_fitness = calculate_scalar_fitness(factorial_cost)\n",
    "\n",
    "        # sort\n",
    "        sort_index = np.argsort(scalar_fitness)[::-1]\n",
    "        population = population[sort_index]\n",
    "        skill_factor = skill_factor[sort_index]\n",
    "        factorial_cost = factorial_cost[sort_index]\n",
    "        scalar_fitness = scalar_fitness[sort_index]\n",
    "\n",
    "        # optimization info\n",
    "        message = {'algorithm': 'cea', 'instance': config['names']}\n",
    "        results = get_optimization_results(t, population, factorial_cost, scalar_fitness, skill_factor, message)\n",
    "        desc = 'gen:{} fitness:{} message:{} K:{}'.format(t, ' '.join(\n",
    "            '{:0.2f}|{:0.2f}|{:0.2f}'.format(res.fun, res.mean, res.std) for res in results), message, K)\n",
    "        iterator.set_description(desc)\n",
    "\n",
    "\n"
   ]
  },
  {
   "cell_type": "code",
   "execution_count": null,
   "metadata": {},
   "outputs": [],
   "source": [
    "np.seterr(under='ignore')"
   ]
  },
  {
   "cell_type": "code",
   "execution_count": null,
   "metadata": {},
   "outputs": [],
   "source": [
    "from scipy.stats import multivariate_normal"
   ]
  },
  {
   "cell_type": "code",
   "execution_count": null,
   "metadata": {},
   "outputs": [],
   "source": [
    "multivariate_normal.pdf([[10,2,30,4],[1,2,3,4],[1,2,3,4],[2,3,4,5]],[30,2,3,6],[0,0.01,1,1], allow_singular = True)"
   ]
  },
  {
   "cell_type": "code",
   "execution_count": null,
   "metadata": {},
   "outputs": [],
   "source": [
    "multivariate_normal.pdf([[10],[1],[1],[2]],[30],0, allow_singular = True)"
   ]
  }
 ],
 "metadata": {
  "celltoolbar": "Raw Cell Format",
  "kernelspec": {
   "display_name": "Python 3",
   "language": "python",
   "name": "python3"
  },
  "language_info": {
   "codemirror_mode": {
    "name": "ipython",
    "version": 3
   },
   "file_extension": ".py",
   "mimetype": "text/x-python",
   "name": "python",
   "nbconvert_exporter": "python",
   "pygments_lexer": "ipython3",
   "version": "3.6.9"
  }
 },
 "nbformat": 4,
 "nbformat_minor": 2
}
